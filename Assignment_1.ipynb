{
  "nbformat": 4,
  "nbformat_minor": 0,
  "metadata": {
    "kernelspec": {
      "display_name": "Python 3",
      "language": "python",
      "name": "python3"
    },
    "language_info": {
      "codemirror_mode": {
        "name": "ipython",
        "version": 3
      },
      "file_extension": ".py",
      "mimetype": "text/x-python",
      "name": "python",
      "nbconvert_exporter": "python",
      "pygments_lexer": "ipython3",
      "version": "3.7.3"
    },
    "toc": {
      "base_numbering": "1",
      "nav_menu": {},
      "number_sections": true,
      "sideBar": true,
      "skip_h1_title": false,
      "title_cell": "Table of Contents",
      "title_sidebar": "Contents",
      "toc_cell": false,
      "toc_position": {
        "height": "calc(100% - 180px)",
        "left": "10px",
        "top": "150px",
        "width": "261.0714416503906px"
      },
      "toc_section_display": true,
      "toc_window_display": true
    },
    "colab": {
      "name": "Assignment_1.ipynb",
      "provenance": []
    }
  },
  "cells": [
    {
      "cell_type": "markdown",
      "metadata": {
        "id": "b7YzL4F6j4vy",
        "colab_type": "text"
      },
      "source": [
        "*Practical Data Science 19/20*\n",
        "# Programming Assignment"
      ]
    },
    {
      "cell_type": "markdown",
      "metadata": {
        "id": "gXvD-aUSj4v0",
        "colab_type": "text"
      },
      "source": [
        "In this programming assignment you need to apply your new `numpy`, `pandas` and `matplotlib` knowledge. You will need to do several [`groupby`](https://pandas.pydata.org/pandas-docs/stable/generated/pandas.DataFrame.groupby.html)s and [`join`](https://pandas.pydata.org/pandas-docs/stable/generated/pandas.DataFrame.join.html)`s to solve the task. "
      ]
    },
    {
      "cell_type": "markdown",
      "metadata": {
        "id": "2TJxyb53j4v1",
        "colab_type": "text"
      },
      "source": [
        "Load required packages"
      ]
    },
    {
      "cell_type": "code",
      "metadata": {
        "id": "osEi1wfbj4v1",
        "colab_type": "code",
        "colab": {}
      },
      "source": [
        "import pandas as pd\n",
        "%matplotlib inline "
      ],
      "execution_count": 0,
      "outputs": []
    },
    {
      "cell_type": "markdown",
      "metadata": {
        "id": "bB7yQ1rDj4v4",
        "colab_type": "text"
      },
      "source": [
        "Load Data"
      ]
    },
    {
      "cell_type": "code",
      "metadata": {
        "id": "llAuBuOKj4v5",
        "colab_type": "code",
        "colab": {}
      },
      "source": [
        "DATA_URL = 'https://raw.githubusercontent.com/pds1920/_a1-template/master/data/'\n",
        "\n",
        "transactions    = pd.read_csv(DATA_URL + '/sales_train.csv.gz')\n",
        "items           = pd.read_csv(DATA_URL + '/items.csv')\n",
        "item_categories = pd.read_csv(DATA_URL + '/item_categories.csv')"
      ],
      "execution_count": 0,
      "outputs": []
    },
    {
      "cell_type": "markdown",
      "metadata": {
        "id": "MX1O6MNCj4v7",
        "colab_type": "text"
      },
      "source": [
        "## Get to know the data\n",
        "Print the **shape** of the loaded dataframes.\n",
        "- You can use a list comprehension here"
      ]
    },
    {
      "cell_type": "code",
      "metadata": {
        "id": "2RgG4hGcj4v8",
        "colab_type": "code",
        "colab": {
          "base_uri": "https://localhost:8080/",
          "height": 68
        },
        "outputId": "4082b88b-e1b7-4bfb-92e5-78e70188544e"
      },
      "source": [
        "new_list = [transactions, items, item_categories]\n",
        "for i in new_list:\n",
        "    print(i.shape)"
      ],
      "execution_count": 4,
      "outputs": [
        {
          "output_type": "stream",
          "text": [
            "(1400001, 6)\n",
            "(22170, 3)\n",
            "(84, 2)\n"
          ],
          "name": "stdout"
        }
      ]
    },
    {
      "cell_type": "markdown",
      "metadata": {
        "id": "noKfAO9Kj4v-",
        "colab_type": "text"
      },
      "source": [
        "Use [`df.head`](https://pandas.pydata.org/pandas-docs/stable/generated/pandas.DataFrame.head.html) function to print several rows of each data frame.  Examine the features you are given."
      ]
    },
    {
      "cell_type": "code",
      "metadata": {
        "id": "nwZiIS2lj4v_",
        "colab_type": "code",
        "colab": {
          "base_uri": "https://localhost:8080/",
          "height": 204
        },
        "outputId": "21db739a-cefc-4ba9-a3a9-a99222bfd554"
      },
      "source": [
        "# Write your code here\n",
        "transactions.head(5)"
      ],
      "execution_count": 5,
      "outputs": [
        {
          "output_type": "execute_result",
          "data": {
            "text/html": [
              "<div>\n",
              "<style scoped>\n",
              "    .dataframe tbody tr th:only-of-type {\n",
              "        vertical-align: middle;\n",
              "    }\n",
              "\n",
              "    .dataframe tbody tr th {\n",
              "        vertical-align: top;\n",
              "    }\n",
              "\n",
              "    .dataframe thead th {\n",
              "        text-align: right;\n",
              "    }\n",
              "</style>\n",
              "<table border=\"1\" class=\"dataframe\">\n",
              "  <thead>\n",
              "    <tr style=\"text-align: right;\">\n",
              "      <th></th>\n",
              "      <th>date</th>\n",
              "      <th>date_block_num</th>\n",
              "      <th>shop_id</th>\n",
              "      <th>item_id</th>\n",
              "      <th>item_price</th>\n",
              "      <th>item_cnt_day</th>\n",
              "    </tr>\n",
              "  </thead>\n",
              "  <tbody>\n",
              "    <tr>\n",
              "      <th>0</th>\n",
              "      <td>14.10.2013</td>\n",
              "      <td>9</td>\n",
              "      <td>19</td>\n",
              "      <td>7204</td>\n",
              "      <td>199.0</td>\n",
              "      <td>1.0</td>\n",
              "    </tr>\n",
              "    <tr>\n",
              "      <th>1</th>\n",
              "      <td>23.10.2013</td>\n",
              "      <td>9</td>\n",
              "      <td>19</td>\n",
              "      <td>7096</td>\n",
              "      <td>799.0</td>\n",
              "      <td>1.0</td>\n",
              "    </tr>\n",
              "    <tr>\n",
              "      <th>2</th>\n",
              "      <td>19.10.2013</td>\n",
              "      <td>9</td>\n",
              "      <td>19</td>\n",
              "      <td>7204</td>\n",
              "      <td>199.0</td>\n",
              "      <td>1.0</td>\n",
              "    </tr>\n",
              "    <tr>\n",
              "      <th>3</th>\n",
              "      <td>17.10.2013</td>\n",
              "      <td>9</td>\n",
              "      <td>19</td>\n",
              "      <td>7206</td>\n",
              "      <td>199.0</td>\n",
              "      <td>1.0</td>\n",
              "    </tr>\n",
              "    <tr>\n",
              "      <th>4</th>\n",
              "      <td>13.10.2013</td>\n",
              "      <td>9</td>\n",
              "      <td>19</td>\n",
              "      <td>7459</td>\n",
              "      <td>299.0</td>\n",
              "      <td>1.0</td>\n",
              "    </tr>\n",
              "  </tbody>\n",
              "</table>\n",
              "</div>"
            ],
            "text/plain": [
              "         date  date_block_num  shop_id  item_id  item_price  item_cnt_day\n",
              "0  14.10.2013               9       19     7204       199.0           1.0\n",
              "1  23.10.2013               9       19     7096       799.0           1.0\n",
              "2  19.10.2013               9       19     7204       199.0           1.0\n",
              "3  17.10.2013               9       19     7206       199.0           1.0\n",
              "4  13.10.2013               9       19     7459       299.0           1.0"
            ]
          },
          "metadata": {
            "tags": []
          },
          "execution_count": 5
        }
      ]
    },
    {
      "cell_type": "code",
      "metadata": {
        "id": "a7BGuL7Tj4wD",
        "colab_type": "code",
        "colab": {
          "base_uri": "https://localhost:8080/",
          "height": 204
        },
        "outputId": "8fb3bdcc-6dee-44d8-a61a-4245b9a02b9e"
      },
      "source": [
        "# Write your code here\n",
        "items.head(5)"
      ],
      "execution_count": 6,
      "outputs": [
        {
          "output_type": "execute_result",
          "data": {
            "text/html": [
              "<div>\n",
              "<style scoped>\n",
              "    .dataframe tbody tr th:only-of-type {\n",
              "        vertical-align: middle;\n",
              "    }\n",
              "\n",
              "    .dataframe tbody tr th {\n",
              "        vertical-align: top;\n",
              "    }\n",
              "\n",
              "    .dataframe thead th {\n",
              "        text-align: right;\n",
              "    }\n",
              "</style>\n",
              "<table border=\"1\" class=\"dataframe\">\n",
              "  <thead>\n",
              "    <tr style=\"text-align: right;\">\n",
              "      <th></th>\n",
              "      <th>item_name</th>\n",
              "      <th>item_id</th>\n",
              "      <th>item_category_id</th>\n",
              "    </tr>\n",
              "  </thead>\n",
              "  <tbody>\n",
              "    <tr>\n",
              "      <th>0</th>\n",
              "      <td>! ВО ВЛАСТИ НАВАЖДЕНИЯ (ПЛАСТ.)         D</td>\n",
              "      <td>0</td>\n",
              "      <td>40</td>\n",
              "    </tr>\n",
              "    <tr>\n",
              "      <th>1</th>\n",
              "      <td>!ABBYY FineReader 12 Professional Edition Full...</td>\n",
              "      <td>1</td>\n",
              "      <td>76</td>\n",
              "    </tr>\n",
              "    <tr>\n",
              "      <th>2</th>\n",
              "      <td>***В ЛУЧАХ СЛАВЫ   (UNV)                    D</td>\n",
              "      <td>2</td>\n",
              "      <td>40</td>\n",
              "    </tr>\n",
              "    <tr>\n",
              "      <th>3</th>\n",
              "      <td>***ГОЛУБАЯ ВОЛНА  (Univ)                      D</td>\n",
              "      <td>3</td>\n",
              "      <td>40</td>\n",
              "    </tr>\n",
              "    <tr>\n",
              "      <th>4</th>\n",
              "      <td>***КОРОБКА (СТЕКЛО)                       D</td>\n",
              "      <td>4</td>\n",
              "      <td>40</td>\n",
              "    </tr>\n",
              "  </tbody>\n",
              "</table>\n",
              "</div>"
            ],
            "text/plain": [
              "                                           item_name  item_id  item_category_id\n",
              "0          ! ВО ВЛАСТИ НАВАЖДЕНИЯ (ПЛАСТ.)         D        0                40\n",
              "1  !ABBYY FineReader 12 Professional Edition Full...        1                76\n",
              "2      ***В ЛУЧАХ СЛАВЫ   (UNV)                    D        2                40\n",
              "3    ***ГОЛУБАЯ ВОЛНА  (Univ)                      D        3                40\n",
              "4        ***КОРОБКА (СТЕКЛО)                       D        4                40"
            ]
          },
          "metadata": {
            "tags": []
          },
          "execution_count": 6
        }
      ]
    },
    {
      "cell_type": "code",
      "metadata": {
        "scrolled": true,
        "id": "0larnARtj4wG",
        "colab_type": "code",
        "colab": {
          "base_uri": "https://localhost:8080/",
          "height": 204
        },
        "outputId": "604fbf41-bead-44cd-f92c-71c093f83a7a"
      },
      "source": [
        "# Write your code here\n",
        "item_categories.head(5)"
      ],
      "execution_count": 7,
      "outputs": [
        {
          "output_type": "execute_result",
          "data": {
            "text/html": [
              "<div>\n",
              "<style scoped>\n",
              "    .dataframe tbody tr th:only-of-type {\n",
              "        vertical-align: middle;\n",
              "    }\n",
              "\n",
              "    .dataframe tbody tr th {\n",
              "        vertical-align: top;\n",
              "    }\n",
              "\n",
              "    .dataframe thead th {\n",
              "        text-align: right;\n",
              "    }\n",
              "</style>\n",
              "<table border=\"1\" class=\"dataframe\">\n",
              "  <thead>\n",
              "    <tr style=\"text-align: right;\">\n",
              "      <th></th>\n",
              "      <th>item_category_name</th>\n",
              "      <th>item_category_id</th>\n",
              "    </tr>\n",
              "  </thead>\n",
              "  <tbody>\n",
              "    <tr>\n",
              "      <th>0</th>\n",
              "      <td>PC - Гарнитуры/Наушники</td>\n",
              "      <td>0</td>\n",
              "    </tr>\n",
              "    <tr>\n",
              "      <th>1</th>\n",
              "      <td>Аксессуары - PS2</td>\n",
              "      <td>1</td>\n",
              "    </tr>\n",
              "    <tr>\n",
              "      <th>2</th>\n",
              "      <td>Аксессуары - PS3</td>\n",
              "      <td>2</td>\n",
              "    </tr>\n",
              "    <tr>\n",
              "      <th>3</th>\n",
              "      <td>Аксессуары - PS4</td>\n",
              "      <td>3</td>\n",
              "    </tr>\n",
              "    <tr>\n",
              "      <th>4</th>\n",
              "      <td>Аксессуары - PSP</td>\n",
              "      <td>4</td>\n",
              "    </tr>\n",
              "  </tbody>\n",
              "</table>\n",
              "</div>"
            ],
            "text/plain": [
              "        item_category_name  item_category_id\n",
              "0  PC - Гарнитуры/Наушники                 0\n",
              "1         Аксессуары - PS2                 1\n",
              "2         Аксессуары - PS3                 2\n",
              "3         Аксессуары - PS4                 3\n",
              "4         Аксессуары - PSP                 4"
            ]
          },
          "metadata": {
            "tags": []
          },
          "execution_count": 7
        }
      ]
    },
    {
      "cell_type": "markdown",
      "metadata": {
        "id": "zLyjObkJj4wp",
        "colab_type": "text"
      },
      "source": [
        "Now use your `pandas` skills to get answers for the following questions. "
      ]
    },
    {
      "cell_type": "markdown",
      "metadata": {
        "id": "8o3Im50qj4wq",
        "colab_type": "text"
      },
      "source": [
        "## What was the maximum total revenue among all the shops in June, 2014?\n",
        "\n",
        "\n",
        "* Revenue refers to total sales minus value of goods returned.\n",
        "* Sometimes items are returned, find such examples in the dataset. \n",
        "* It is handy to split `date` field into [`day`, `month`, `year`] components and use `df.year == 14` and `df.month == 6` in order to select target subset of dates.\n",
        "* You may work with `date` feature as with strings, or you may first convert it to `pd.datetime` type with `pd.to_datetime` function, but do not forget to set correct `format` argument."
      ]
    },
    {
      "cell_type": "code",
      "metadata": {
        "id": "B9_OfH3Dj4wr",
        "colab_type": "code",
        "colab": {}
      },
      "source": [
        "# Write your code here\n",
        "transactions['date'] = pd.to_datetime(transactions['date'], format='%d.%m.%Y')\n",
        "\n",
        "transactions['year'] = transactions['date'].dt.year\n",
        "transactions['month'] = transactions['date'].dt.month\n",
        "transactions['day'] = transactions['date'].dt.day"
      ],
      "execution_count": 0,
      "outputs": []
    },
    {
      "cell_type": "code",
      "metadata": {
        "id": "DbfuDDZEj4wt",
        "colab_type": "code",
        "colab": {}
      },
      "source": [
        "max_revenue = transactions[(transactions['year'] == 2014) & (transactions['month'] == 6)]\n",
        "max_revenue = (transactions['item_price'] * transactions['item_cnt_day'])\n",
        "\n",
        "max_revenue = max(max_revenue)"
      ],
      "execution_count": 0,
      "outputs": []
    },
    {
      "cell_type": "code",
      "metadata": {
        "id": "DcxM5Zscj4wv",
        "colab_type": "code",
        "colab": {
          "base_uri": "https://localhost:8080/",
          "height": 34
        },
        "outputId": "1dbad7b4-a004-4b54-8bed-b84853b92d2d"
      },
      "source": [
        "max_revenue"
      ],
      "execution_count": 10,
      "outputs": [
        {
          "output_type": "execute_result",
          "data": {
            "text/plain": [
              "1829990.0000013"
            ]
          },
          "metadata": {
            "tags": []
          },
          "execution_count": 10
        }
      ]
    },
    {
      "cell_type": "markdown",
      "metadata": {
        "id": "oe4YRNuBj4wx",
        "colab_type": "text"
      },
      "source": [
        "## How many items are there?\n",
        "\n",
        "* Let's assume, that the items are returned for the same price as they had been sold"
      ]
    },
    {
      "cell_type": "code",
      "metadata": {
        "id": "lWbxBousj4wy",
        "colab_type": "code",
        "colab": {
          "base_uri": "https://localhost:8080/",
          "height": 306
        },
        "outputId": "18818e92-5322-403d-8156-6ee8b5162d6d"
      },
      "source": [
        "#num_items_constant_price ="
      ],
      "execution_count": 11,
      "outputs": [
        {
          "output_type": "error",
          "ename": "ValueError",
          "evalue": "ignored",
          "traceback": [
            "\u001b[0;31m---------------------------------------------------------------------------\u001b[0m",
            "\u001b[0;31mValueError\u001b[0m                                Traceback (most recent call last)",
            "\u001b[0;32m<ipython-input-11-0b4dfd04b95b>\u001b[0m in \u001b[0;36m<module>\u001b[0;34m()\u001b[0m\n\u001b[0;32m----> 1\u001b[0;31m \u001b[0mnum_items_constant_price\u001b[0m \u001b[0;34m=\u001b[0m \u001b[0mtransactions\u001b[0m\u001b[0;34m.\u001b[0m\u001b[0msum\u001b[0m\u001b[0;34m(\u001b[0m\u001b[0;34m'item_cnt_day'\u001b[0m\u001b[0;34m)\u001b[0m\u001b[0;34m\u001b[0m\u001b[0;34m\u001b[0m\u001b[0m\n\u001b[0m",
            "\u001b[0;32m/usr/local/lib/python3.6/dist-packages/pandas/core/generic.py\u001b[0m in \u001b[0;36mstat_func\u001b[0;34m(self, axis, skipna, level, numeric_only, min_count, **kwargs)\u001b[0m\n\u001b[1;32m  11583\u001b[0m             \u001b[0mskipna\u001b[0m\u001b[0;34m=\u001b[0m\u001b[0mskipna\u001b[0m\u001b[0;34m,\u001b[0m\u001b[0;34m\u001b[0m\u001b[0;34m\u001b[0m\u001b[0m\n\u001b[1;32m  11584\u001b[0m             \u001b[0mnumeric_only\u001b[0m\u001b[0;34m=\u001b[0m\u001b[0mnumeric_only\u001b[0m\u001b[0;34m,\u001b[0m\u001b[0;34m\u001b[0m\u001b[0;34m\u001b[0m\u001b[0m\n\u001b[0;32m> 11585\u001b[0;31m             \u001b[0mmin_count\u001b[0m\u001b[0;34m=\u001b[0m\u001b[0mmin_count\u001b[0m\u001b[0;34m,\u001b[0m\u001b[0;34m\u001b[0m\u001b[0;34m\u001b[0m\u001b[0m\n\u001b[0m\u001b[1;32m  11586\u001b[0m         )\n\u001b[1;32m  11587\u001b[0m \u001b[0;34m\u001b[0m\u001b[0m\n",
            "\u001b[0;32m/usr/local/lib/python3.6/dist-packages/pandas/core/frame.py\u001b[0m in \u001b[0;36m_reduce\u001b[0;34m(self, op, name, axis, skipna, numeric_only, filter_type, **kwds)\u001b[0m\n\u001b[1;32m   7901\u001b[0m         \u001b[0;32melse\u001b[0m\u001b[0;34m:\u001b[0m\u001b[0;34m\u001b[0m\u001b[0;34m\u001b[0m\u001b[0m\n\u001b[1;32m   7902\u001b[0m             \u001b[0;31m# TODO: Make other agg func handle axis=None properly\u001b[0m\u001b[0;34m\u001b[0m\u001b[0;34m\u001b[0m\u001b[0;34m\u001b[0m\u001b[0m\n\u001b[0;32m-> 7903\u001b[0;31m             \u001b[0maxis\u001b[0m \u001b[0;34m=\u001b[0m \u001b[0mself\u001b[0m\u001b[0;34m.\u001b[0m\u001b[0m_get_axis_number\u001b[0m\u001b[0;34m(\u001b[0m\u001b[0maxis\u001b[0m\u001b[0;34m)\u001b[0m\u001b[0;34m\u001b[0m\u001b[0;34m\u001b[0m\u001b[0m\n\u001b[0m\u001b[1;32m   7904\u001b[0m             \u001b[0mlabels\u001b[0m \u001b[0;34m=\u001b[0m \u001b[0mself\u001b[0m\u001b[0;34m.\u001b[0m\u001b[0m_get_agg_axis\u001b[0m\u001b[0;34m(\u001b[0m\u001b[0maxis\u001b[0m\u001b[0;34m)\u001b[0m\u001b[0;34m\u001b[0m\u001b[0;34m\u001b[0m\u001b[0m\n\u001b[1;32m   7905\u001b[0m             \u001b[0mconstructor\u001b[0m \u001b[0;34m=\u001b[0m \u001b[0mself\u001b[0m\u001b[0;34m.\u001b[0m\u001b[0m_constructor\u001b[0m\u001b[0;34m\u001b[0m\u001b[0;34m\u001b[0m\u001b[0m\n",
            "\u001b[0;32m/usr/local/lib/python3.6/dist-packages/pandas/core/generic.py\u001b[0m in \u001b[0;36m_get_axis_number\u001b[0;34m(cls, axis)\u001b[0m\n\u001b[1;32m    409\u001b[0m             \u001b[0;32mexcept\u001b[0m \u001b[0mKeyError\u001b[0m\u001b[0;34m:\u001b[0m\u001b[0;34m\u001b[0m\u001b[0;34m\u001b[0m\u001b[0m\n\u001b[1;32m    410\u001b[0m                 \u001b[0;32mpass\u001b[0m\u001b[0;34m\u001b[0m\u001b[0;34m\u001b[0m\u001b[0m\n\u001b[0;32m--> 411\u001b[0;31m         \u001b[0;32mraise\u001b[0m \u001b[0mValueError\u001b[0m\u001b[0;34m(\u001b[0m\u001b[0;34m\"No axis named {0} for object type {1}\"\u001b[0m\u001b[0;34m.\u001b[0m\u001b[0mformat\u001b[0m\u001b[0;34m(\u001b[0m\u001b[0maxis\u001b[0m\u001b[0;34m,\u001b[0m \u001b[0mcls\u001b[0m\u001b[0;34m)\u001b[0m\u001b[0;34m)\u001b[0m\u001b[0;34m\u001b[0m\u001b[0;34m\u001b[0m\u001b[0m\n\u001b[0m\u001b[1;32m    412\u001b[0m \u001b[0;34m\u001b[0m\u001b[0m\n\u001b[1;32m    413\u001b[0m     \u001b[0;34m@\u001b[0m\u001b[0mclassmethod\u001b[0m\u001b[0;34m\u001b[0m\u001b[0;34m\u001b[0m\u001b[0m\n",
            "\u001b[0;31mValueError\u001b[0m: No axis named item_cnt_day for object type <class 'pandas.core.frame.DataFrame'>"
          ]
        }
      ]
    },
    {
      "cell_type": "code",
      "metadata": {
        "id": "H5Mtw6Odj4w0",
        "colab_type": "code",
        "colab": {}
      },
      "source": [
        "num_items_constant_price"
      ],
      "execution_count": 0,
      "outputs": []
    },
    {
      "cell_type": "markdown",
      "metadata": {
        "id": "S_s7qPf2j4w2",
        "colab_type": "text"
      },
      "source": [
        "## What was the variance of the number of sold items per day sequence for the shop with `shop_id = 25` in December, 2014?\n",
        "\n",
        "* Do not count the items that were sold but returned back later.\n",
        "* Fill `total_num_items_sold`: An (ordered) array that contains the total number of items sold on each day \n",
        "* Fill `days`: An (ordered) array that contains all relevant days\n",
        "* Then compute variance of the of `total_num_items_sold`\n",
        "* If there were no sales at a given day, ***do not*** impute missing value with zero, just ignore that day"
      ]
    },
    {
      "cell_type": "code",
      "metadata": {
        "id": "WwDFH23nj4w2",
        "colab_type": "code",
        "colab": {}
      },
      "source": [
        "shop_id = 25\n",
        "sales_25 = transactions[(transactions['shop_id'] == shop_id) &\n",
        "                        (transactions['year'] == 2014) &\n",
        "                        (transactions['month'] == 12)]"
      ],
      "execution_count": 0,
      "outputs": []
    },
    {
      "cell_type": "code",
      "metadata": {
        "id": "QJaeaSvyj4w4",
        "colab_type": "code",
        "colab": {}
      },
      "source": [
        "# remove returned items\n",
        "filtered_sales = sales_25.drop_duplicates(subset = 'item_id', keep = False)\n",
        "\n",
        "# number of items sold on each day\n",
        "total_num_items_sold = filtered_sales.groupby('day')['item_cnt_day'].sum()\n",
        "total_num_items_sold_var = total_num_items_sold.var()"
      ],
      "execution_count": 0,
      "outputs": []
    },
    {
      "cell_type": "code",
      "metadata": {
        "id": "af8RGb0mj4w6",
        "colab_type": "code",
        "colab": {}
      },
      "source": [
        "total_num_items_sold_var"
      ],
      "execution_count": 0,
      "outputs": []
    },
    {
      "cell_type": "markdown",
      "metadata": {
        "id": "hFccWVdrj4w8",
        "colab_type": "text"
      },
      "source": [
        "## Vizualization of the daily items sold\n",
        "\n",
        "Use `total_num_items_sold` and `days` arrays to and plot the daily revenue of `shop_id = 25` in December, 2014.\n",
        "\n",
        "* plot-title: 'Daily items sold for shop_id = 25'"
      ]
    },
    {
      "cell_type": "code",
      "metadata": {
        "id": "lReS_GiPj4w9",
        "colab_type": "code",
        "colab": {}
      },
      "source": [
        "import numpy as np\n",
        "total_num_items_sold.plot(kind='bar', x='day', title='Daily items sold for shop_id = 25');\n",
        "\n"
      ],
      "execution_count": 0,
      "outputs": []
    },
    {
      "cell_type": "markdown",
      "metadata": {
        "id": "HG5df7USj4w-",
        "colab_type": "text"
      },
      "source": [
        "## What item category that generated the highest revenue in spring 2014?</b></li>\n",
        "\n",
        "   \n",
        "Spring is the period from March to Mai."
      ]
    },
    {
      "cell_type": "code",
      "metadata": {
        "id": "Qn2B81ZMj4w_",
        "colab_type": "code",
        "colab": {}
      },
      "source": [
        "spring_data = transactions[(transactions['year'] == 2014) &\n",
        "                           (transactions['month'] >= 3) &\n",
        "                           (transactions['month'] <= 5)]\n",
        "\n",
        "\n",
        "spring_data.loc[:, 'revenue'] = spring_data['item_price'] * spring_data['item_cnt_day'].copy()\n",
        "\n",
        "\n",
        "item_categories.rename(columns = {'item_category_id': 'item_id'}, inplace = True)\n",
        "data_combined = pd.merge(spring_data, item_categories, on = 'item_id', how = 'left')"
      ],
      "execution_count": 0,
      "outputs": []
    },
    {
      "cell_type": "code",
      "metadata": {
        "id": "ncPNtZyWj4xB",
        "colab_type": "code",
        "colab": {}
      },
      "source": [
        "# group by item\n",
        "category_id_with_max_revenue = data_combined.groupby(['item_id', 'item_category_name'])['revenue'].sum().sort_values(ascending=False).head(1)"
      ],
      "execution_count": 0,
      "outputs": []
    },
    {
      "cell_type": "code",
      "metadata": {
        "id": "8Tzv8P86j4xF",
        "colab_type": "code",
        "colab": {}
      },
      "source": [
        "category_id_with_max_revenue"
      ],
      "execution_count": 0,
      "outputs": []
    }
  ]
}